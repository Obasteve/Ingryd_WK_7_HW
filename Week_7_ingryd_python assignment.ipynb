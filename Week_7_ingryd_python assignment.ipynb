{
 "cells": [
  {
   "cell_type": "markdown",
   "id": "e40666ce",
   "metadata": {},
   "source": [
    "Create a list of numbers minimum of 20\n",
    "Call in temperature of numbers\n",
    "find the mean, median, mode and range\n",
    "find the variance and std"
   ]
  },
  {
   "cell_type": "code",
   "execution_count": 1,
   "id": "3f65bff6",
   "metadata": {},
   "outputs": [],
   "source": [
    "import  statistics"
   ]
  },
  {
   "cell_type": "code",
   "execution_count": 3,
   "id": "a07b1d4b",
   "metadata": {},
   "outputs": [],
   "source": [
    "temp=[36, 45, 25, 66, 48, 22, 77, 34,45]\n",
    "temp_sort= sorted(temp)\n",
    "mean=statistics.mean(temp_sort)\n",
    "median=statistics.mean(temp_sort)\n",
    "mode=statistics.mode(temp_sort)\n",
    "data_range=max(temp_sort)-min(temp_sort)\n",
    "variance = statistics.variance(temp)\n",
    "standard_deviation = statistics.stdev(temp)"
   ]
  },
  {
   "cell_type": "code",
   "execution_count": 4,
   "id": "14154ee2",
   "metadata": {},
   "outputs": [
    {
     "name": "stdout",
     "output_type": "stream",
     "text": [
      "Mean :  44.22\n",
      "Median :  44.22\n",
      "Mode :  45.00\n",
      "Range:  55.00\n",
      "Variance:  324.94\n",
      "StandardDev:  18.03\n"
     ]
    }
   ],
   "source": [
    "print(f'Mean : {mean: .2f}')\n",
    "print(f'Median : {median: .2f}')\n",
    "print(f'Mode : {mode: .2f}')\n",
    "print(f'Range: {data_range: .2f}')\n",
    "print(f'Variance: {variance: .2f}')\n",
    "print(f'StandardDev: {standard_deviation: .2f}')"
   ]
  },
  {
   "cell_type": "code",
   "execution_count": null,
   "id": "9dbd1aa0",
   "metadata": {},
   "outputs": [],
   "source": []
  }
 ],
 "metadata": {
  "kernelspec": {
   "display_name": "Python 3 (ipykernel)",
   "language": "python",
   "name": "python3"
  },
  "language_info": {
   "codemirror_mode": {
    "name": "ipython",
    "version": 3
   },
   "file_extension": ".py",
   "mimetype": "text/x-python",
   "name": "python",
   "nbconvert_exporter": "python",
   "pygments_lexer": "ipython3",
   "version": "3.9.12"
  }
 },
 "nbformat": 4,
 "nbformat_minor": 5
}
